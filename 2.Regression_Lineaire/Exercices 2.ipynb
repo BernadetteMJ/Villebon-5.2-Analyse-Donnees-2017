{
 "cells": [
  {
   "cell_type": "markdown",
   "metadata": {},
   "source": [
    "## Jeu de dé\n",
    "\n",
    "\n",
    "\"On simule le lancement d'un dé. On gagne lorsque le numéro est 1, 2 ou 6. Sinon on a perdu. Exercice : écrire un programme simulant ce jeu d’abord sans utiliser de liste puis en utilisant une liste. Information : pour avoir un nombre entier aléatoire simulant le lancement du dé, il faut utiliser la fonction randint du module random.\""
   ]
  },
  {
   "cell_type": "code",
   "execution_count": 1,
   "metadata": {
    "collapsed": false
   },
   "outputs": [
    {
     "name": "stdout",
     "output_type": "stream",
     "text": [
      "3\n",
      "Vous avez perdu :-(\n"
     ]
    }
   ],
   "source": [
    "from random import randint\n",
    "\n",
    "#Une premiere fonction sans utiliser de liste... ce n'est pas optimal du tout mais ça fonctionne.\n",
    "def test_de_gagnant(d):\n",
    "    \"\"\" Fonction testant la valeur du nombre d. \n",
    "        Le joueur gagne si cette valeur est egale a 1, 2 ou 6.\n",
    "    \"\"\"\n",
    "    if d == 1:\n",
    "        return \"Vous avez gagne !\"\n",
    "    elif d == 2:\n",
    "        return \"Vous avez gagne !\"\n",
    "    elif d == 6:\n",
    "        return \"Vous avez gagne !\"\n",
    "    else:\n",
    "        return \"Vous avez perdu :-(\"\n",
    "\n",
    "n = randint(1, 6)\n",
    "print(n)\n",
    "\n",
    "print test_de_gagnant(n)"
   ]
  },
  {
   "cell_type": "code",
   "execution_count": 2,
   "metadata": {
    "collapsed": false
   },
   "outputs": [
    {
     "name": "stdout",
     "output_type": "stream",
     "text": [
      "1\n",
      "Vous avez gagne !\n"
     ]
    }
   ],
   "source": [
    "#Une proposition d'une autre fonction qui utilise une liste.\n",
    "def test_de_gagnant_optimise(d):\n",
    "    \"\"\" Fonction testant la valeur du nombre d. \n",
    "        Le joueur gagne si cette valeur est egale a 1, 2 ou 6.\n",
    "    \"\"\"\n",
    "    if d in [1, 5, 6]:\n",
    "        return \"Vous avez gagne !\"\n",
    "    else:\n",
    "        return \"Vous avez perdu :-(\"\n",
    "\n",
    "m = randint(1, 6)\n",
    "print(m)\n",
    "\n",
    "print test_de_gagnant_optimise(m)"
   ]
  },
  {
   "cell_type": "markdown",
   "metadata": {},
   "source": [
    "On peut comparer le temps de calcul des 2 fonctions grâce au module `time`. Sur un petit code comme ça, la différence n'est pas énorme."
   ]
  },
  {
   "cell_type": "code",
   "execution_count": 3,
   "metadata": {
    "collapsed": false
   },
   "outputs": [
    {
     "name": "stdout",
     "output_type": "stream",
     "text": [
      "Temps de calcul, test_de_gagnant avec le chiffre 1           :  0.000149965286255\n",
      "Temps de calcul, test_de_gagnant_optimise avec le chiffre 1  :  0.000137090682983\n"
     ]
    }
   ],
   "source": [
    "import time\n",
    "\n",
    "start = time.time()\n",
    "test_de_gagnant(m)\n",
    "diff = (time.time() - start)\n",
    "print \"Temps de calcul, test_de_gagnant avec le chiffre\", m,\"          : \", diff\n",
    "\n",
    "start = time.time()\n",
    "test_de_gagnant_optimise(m)\n",
    "diff = (time.time() - start)\n",
    "print \"Temps de calcul, test_de_gagnant_optimise avec le chiffre\", m,\" : \", diff"
   ]
  },
  {
   "cell_type": "markdown",
   "metadata": {},
   "source": [
    "## Comptage d'objets\n",
    "\n",
    "Soit une liste d'éléments discrets pouvant apparaître plusieurs fois. Compter le nombre d'occurence de chaque éléments."
   ]
  },
  {
   "cell_type": "code",
   "execution_count": 4,
   "metadata": {
    "collapsed": true,
    "scrolled": true
   },
   "outputs": [],
   "source": [
    "def comptage(elements):\n",
    "    counter = {}\n",
    "    for element in elements:\n",
    "        counter[element] = counter[element]+1 if counter.has_key(element) else 1\n",
    "    \n",
    "    return counter\n"
   ]
  },
  {
   "cell_type": "code",
   "execution_count": 5,
   "metadata": {
    "collapsed": false
   },
   "outputs": [
    {
     "name": "stdout",
     "output_type": "stream",
     "text": [
      "3\n",
      "2\n",
      "1\n"
     ]
    }
   ],
   "source": [
    "test_list = list('AAABBC')\n",
    "result = comptage(test_list)\n",
    "\n",
    "print result['A']\n",
    "print result['B']\n",
    "print result['C']\n",
    "\n",
    "assert result['A'] == 3\n",
    "assert result['B'] == 2\n",
    "assert result['C'] == 1"
   ]
  },
  {
   "cell_type": "markdown",
   "metadata": {},
   "source": [
    "Une autre manière de faire consiste à utiliser la classe `Counter` du module `collections`. A vous de comprendre le fonctionnement la classe `Counter` !"
   ]
  },
  {
   "cell_type": "code",
   "execution_count": 6,
   "metadata": {
    "collapsed": false
   },
   "outputs": [],
   "source": [
    "from collections import Counter\n",
    "\n",
    "def comptage2(elements):\n",
    "    counter = Counter()\n",
    "    for element in elements:\n",
    "        counter[element]+=1\n",
    "    \n",
    "    return counter\n",
    "\n",
    "result2 = comptage2(test_list)\n",
    "\n",
    "assert result2['A'] == 3\n",
    "assert result2['B'] == 2\n",
    "assert result2['C'] == 1"
   ]
  },
  {
   "cell_type": "markdown",
   "metadata": {},
   "source": [
    "## Trouver la racine d'une fonction\n",
    "\n",
    "Nous avons un problème avec la méthode du gradient pour trouver le minimum d'une fonction. Nous souhaitons maintenant chercher la racine $x_0$ d'une fonction $f$ telle que $f(x_0) = 0$.\n",
    "\n",
    "Nous vous proposon de le faire par dichotomie\n",
    "\n",
    "https://fr.wikipedia.org/wiki/M%C3%A9thode_de_dichotomie\n",
    "\n",
    "La méthode repose sur le fait que si  $x_0 \\in [a,b]$, alors $f(a)$ et $f(b)$ sont de signes opposés.\n",
    "\n",
    "Partant d'un intervalle initial ayant cette propriété, il nous suffit ensuite de le partager en 2, et de garder le côté qui la respecte encore, et d'itérer dessus jusqu'à obtenir un encadrement suffisamment précis pour la valeur recherchée.\n"
   ]
  },
  {
   "cell_type": "code",
   "execution_count": 7,
   "metadata": {
    "collapsed": false
   },
   "outputs": [],
   "source": [
    "def zero(f, a, b, err=0.001):\n",
    "    while abs(b-a) > err:\n",
    "        c = (a+b)/2.0\n",
    "        if f(a)*f(c) < 0:\n",
    "            b = c\n",
    "        else :\n",
    "            a = c\n",
    "        print a,b\n",
    "    return c"
   ]
  },
  {
   "cell_type": "code",
   "execution_count": 8,
   "metadata": {
    "collapsed": false
   },
   "outputs": [
    {
     "name": "stdout",
     "output_type": "stream",
     "text": [
      "0.0 10\n",
      "0.0 5.0\n",
      "0.0 2.5\n",
      "1.25 2.5\n",
      "1.875 2.5\n",
      "1.875 2.1875\n",
      "1.875 2.03125\n",
      "1.953125 2.03125\n",
      "1.9921875 2.03125\n",
      "1.9921875 2.01171875\n",
      "1.9921875 2.001953125\n"
     ]
    }
   ],
   "source": [
    "def f(x):\n",
    "    return x**3-8\n",
    "\n",
    "err = 0.01\n",
    "\n",
    "assert abs(zero(f,-10,10, err=err)-2) < err"
   ]
  },
  {
   "cell_type": "markdown",
   "metadata": {},
   "source": [
    "## Test statistique unilatéral\n",
    "\n",
    "On fait un relevé par an de la moyenne de la température dans une région du globe sur les 40 dernières années. La moyenne globale vaut 26°.\n",
    "\n",
    "On souhaite tester l'hypothèse que la variation de température obéit à une loi normale de moyenne 25° et d'écart-type 2°, avec un niveau de confiance de 95%. \n",
    "\n",
    "\n",
    "1. Calculer le score z : $z = \\frac{\\bar x - \\mu}{\\sigma / \\sqrt N }$\n",
    "\n",
    "1. Calculer la probabilité que l'hypothèse nulle donne un score **supérieur ou égal** à cette valeur.\n",
    "\n",
    "1. Peut-on rejeter l'hypothèse avec un niveau de confiance de 95% ?\n"
   ]
  },
  {
   "cell_type": "code",
   "execution_count": 9,
   "metadata": {
    "collapsed": false
   },
   "outputs": [
    {
     "name": "stdout",
     "output_type": "stream",
     "text": [
      "3.16227766017\n"
     ]
    },
    {
     "data": {
      "text/plain": [
       "True"
      ]
     },
     "execution_count": 9,
     "metadata": {},
     "output_type": "execute_result"
    }
   ],
   "source": [
    "from scipy.stats import norm\n",
    "from math import sqrt\n",
    "\n",
    "#1\n",
    "z = (26-25)/(2./sqrt(40))\n",
    "print z\n",
    "\n",
    "#2\n",
    "norm.cdf(3.16)\n",
    "\n",
    "#3\n",
    "1-norm.cdf(3.16) < 0.05\n"
   ]
  },
  {
   "cell_type": "markdown",
   "metadata": {},
   "source": [
    "## Test statistique bilatéral\n",
    "\n",
    "Une entreprise communique sur un nouveau procédé révolutionnaire qui est appliqué avec un taux de succès de 80%. Un enquêteur indépendant conduit un test aléatoire 100 fois, et trouve un taux de seulement 73%.\n",
    "\n",
    "1. On considère qu'on peut utiliser le théorème central limite pour calculer l'écart-type avec la formule suivante :  $\\sigma = \\sqrt{\\hat p (1 - \\hat p)/n}$.\n",
    "Ecrire la fonction `sigma_binom()` qui calcule cette quantité\n",
    "\n",
    "2. Calculer la variable $z = \\frac{p_0-\\hat p}{\\sigma}$\n",
    "\n",
    "3. Calculer la probabilité que l'hypothèse nulle, correspondant au taux de succès de 80%, donne un score **différent de** 80% \n",
    "\n",
    "4. Peut-on rejeter l'hypothèse nulle avec un niveau de confiance de 95% ?"
   ]
  },
  {
   "cell_type": "code",
   "execution_count": 10,
   "metadata": {
    "collapsed": true
   },
   "outputs": [],
   "source": [
    "def sigma_binomial(p, n):\n",
    "    return sqrt(p*(1-p)/n)"
   ]
  },
  {
   "cell_type": "code",
   "execution_count": 11,
   "metadata": {
    "collapsed": false
   },
   "outputs": [
    {
     "name": "stdout",
     "output_type": "stream",
     "text": [
      "1.5767205496\n"
     ]
    }
   ],
   "source": [
    "z = (0.8-0.73)/sigma_binomial(0.73,100)\n",
    "print z"
   ]
  },
  {
   "cell_type": "raw",
   "metadata": {
    "collapsed": false
   },
   "source": [
    "norm.cdf(z)+1-norm.cdf(-1*z) < 0.05"
   ]
  }
 ],
 "metadata": {
  "kernelspec": {
   "display_name": "Python 2",
   "language": "python",
   "name": "python2"
  },
  "language_info": {
   "codemirror_mode": {
    "name": "ipython",
    "version": 2
   },
   "file_extension": ".py",
   "mimetype": "text/x-python",
   "name": "python",
   "nbconvert_exporter": "python",
   "pygments_lexer": "ipython2",
   "version": "2.7.10"
  }
 },
 "nbformat": 4,
 "nbformat_minor": 0
}
