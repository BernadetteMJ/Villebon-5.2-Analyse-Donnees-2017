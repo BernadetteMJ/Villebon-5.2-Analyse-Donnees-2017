{
 "cells": [
  {
   "cell_type": "markdown",
   "metadata": {},
   "source": [
    "## Comptage d'objets\n",
    "\n",
    "Soit une liste d'éléments discrets pouvant apparaître plusieurs fois. Compter le nombre d'occurence de chaque éléments."
   ]
  },
  {
   "cell_type": "code",
   "execution_count": null,
   "metadata": {
    "collapsed": false
   },
   "outputs": [],
   "source": [
    "def comptage(elements):\n",
    "    pass"
   ]
  },
  {
   "cell_type": "code",
   "execution_count": null,
   "metadata": {
    "collapsed": false
   },
   "outputs": [],
   "source": [
    "test_list = list('AAABBC')\n",
    "result = comptage(test_list)\n",
    "\n",
    "assert result['A'] == 3\n",
    "assert result['B'] == 2\n",
    "assert result['C'] == 1"
   ]
  },
  {
   "cell_type": "markdown",
   "metadata": {},
   "source": [
    "## Trouver la racine d'une fonction\n",
    "\n",
    "Nous avons un problème avec la méthode du gradient pour trouver le minimum d'une fonction. Nous souhaitons maintenant chercher la racine $x_0$ d'une fonction $f$ telle que $f(x_0) = 0$.\n",
    "\n",
    "Nous vous proposon de le faire par dichotomie\n",
    "\n",
    "https://fr.wikipedia.org/wiki/M%C3%A9thode_de_dichotomie\n",
    "\n",
    "La méthode repose sur le fait que si  $x_0 \\in [a,b]$, alors $f(a)$ et $f(b)$ sont de signes opposés.\n",
    "\n",
    "Partant d'un intervalle initial ayant cette propriété, il nous suffit ensuite de le partager en 2, et de garder le côté qui la respecte encore, et d'itérer dessus jusqu'à obtenir un encadrement suffisamment précis pour la valeur recherchée.\n"
   ]
  },
  {
   "cell_type": "code",
   "execution_count": null,
   "metadata": {
    "collapsed": false
   },
   "outputs": [],
   "source": [
    "def zero(f, a, b, err=0.001):\n",
    "    pass"
   ]
  },
  {
   "cell_type": "code",
   "execution_count": null,
   "metadata": {
    "collapsed": false
   },
   "outputs": [],
   "source": [
    "def f(x):\n",
    "    return x**3-8\n",
    "\n",
    "err = 0.01\n",
    "\n",
    "assert abs(zero(f,-10,10, err=err)-2) < err"
   ]
  },
  {
   "cell_type": "markdown",
   "metadata": {},
   "source": [
    "## Tests statistiques\n",
    "\n",
    "On fait un relevé par an de la moyenne de la température dans une région du globe sur les 40 dernières années. La moyenne globale vaut 26°.\n",
    "\n",
    "On souhaite tester l'hypothèse que la variation de température obéit à une loi normale de moyenne 25° et d'écart-type 2°, avec un niveau de confiance de 95%. \n",
    "\n",
    "\n",
    "1. Calculer le score z : $z = \\frac{\\bar x - \\mu}{\\sigma / \\sqrt N }$\n",
    "\n",
    "1. Calculer la probabilité que l'hypothèse nulle donne un score supérieur ou égal à cette valeur.\n",
    "\n",
    "1. Peut-on rejeter l'hypothèse avec un niveau de confiance de 95% ?\n"
   ]
  }
 ],
 "metadata": {
  "kernelspec": {
   "display_name": "Python 2",
   "language": "python",
   "name": "python2"
  },
  "language_info": {
   "codemirror_mode": {
    "name": "ipython",
    "version": 2
   },
   "file_extension": ".py",
   "mimetype": "text/x-python",
   "name": "python",
   "nbconvert_exporter": "python",
   "pygments_lexer": "ipython2",
   "version": "2.7.10"
  }
 },
 "nbformat": 4,
 "nbformat_minor": 0
}
