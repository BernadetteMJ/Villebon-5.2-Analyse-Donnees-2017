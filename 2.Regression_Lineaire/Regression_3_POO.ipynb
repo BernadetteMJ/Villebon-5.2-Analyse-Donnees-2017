{
 "cells": [
  {
   "cell_type": "markdown",
   "metadata": {},
   "source": [
    "Nous allons dans ce cours synthétiser ce que nous avons vu jusqu'à présent. Pour cela, nous allons construire une classe intégré dans un module qui permet de faire de la régression linéaire, que vous pouvez réutiliser et/ou partager de façon transparente.\n",
    "\n",
    "Avant toute chose, **créez un dossier POO** dans le répertoire de votre choix.\n",
    "\n",
    "<h2> 1ère étape : créer un module permettant de générer nos données. </h2>\n",
    "\n",
    "$\\Rightarrow$ créez le fichier **`simu_data.py`** en y incluant la fonction `linear` que nous avons vue et utilisée dans les cours précédents. Dans ce fichier, pensez à également définir la fonction `main()`. </br>\n",
    "Remarque : pour plus de clareté pour le code, dorénavent nous appelons cette fonction **`generate_data`** :\n"
   ]
  },
  {
   "cell_type": "code",
   "execution_count": null,
   "metadata": {
    "collapsed": true
   },
   "outputs": [],
   "source": [
    "import numpy as np\n",
    "\n",
    "def generate_data(N=100, params=(0,1), var=1):\n",
    "    \"\"\" Fonction simulant les donnees : on genere une distribution de points au\n",
    "        voisinage d'une droite avec la fonction lineaire : f(x)=a*x+b+N(0,1)\n",
    "        (cf la fonction linear de Regression_1.ipynb)\n",
    "        \n",
    "        N      : nombre de points pour generer le vecteur x\n",
    "        params : parametres de la fonction : b=params[0] et a=params[1]\n",
    "        var    : facteur faisant varier la variance de la fonction normale N(0,1)\n",
    "    \"\"\"\n",
    "    return pass #votre code ici"
   ]
  },
  {
   "cell_type": "markdown",
   "metadata": {},
   "source": [
    "$\\Rightarrow$ dans la fonction `main()`, générez les points x et y puis enregistrez-les dans un fichier texte au format csv grâce à la ligne de commande **`np.savetxt(\"generated.csv\", np.column_stack((x,y))) `**"
   ]
  },
  {
   "cell_type": "code",
   "execution_count": null,
   "metadata": {
    "collapsed": true
   },
   "outputs": [],
   "source": [
    "# Partie du script qui sera execute seulement lorsqu'on lance le script directement (python generate_data.py), \n",
    "# mais qui ne sera pas execute si on l'importe dans un autre script (import generate_data).\n",
    "# Remarque : np.savetxt permet de sauvegarder les donnees dans un fichier texte au format .csv .\n",
    "def main():\n",
    "    return pass #votre code ici\n",
    "\n",
    "if __name__ == '__main__':\n",
    "    main()"
   ]
  },
  {
   "cell_type": "markdown",
   "metadata": {},
   "source": [
    "Vous avez maintenant votre propre module `simu_data.py` qui vous permet de générer les données de manière indépendante à leur utilisation."
   ]
  },
  {
   "cell_type": "markdown",
   "metadata": {},
   "source": [
    "<h2> Utilisation de ce module </h2>\n",
    "\n",
    "Pour utiliser ce script en tant que module, créez un fichier **`run.py`** :"
   ]
  },
  {
   "cell_type": "code",
   "execution_count": null,
   "metadata": {
    "collapsed": true
   },
   "outputs": [],
   "source": [
    "from simu_data import generate_data\n",
    "import matplotlib.pyplot as plt\n",
    "\n",
    "def main():\n",
    "    x,y = generate_data(1000, var=5)\n",
    "    plt.scatter(x, y)\n",
    "    plt.show()\n",
    "\n",
    "if __name__ == '__main__':\n",
    "    main()"
   ]
  },
  {
   "cell_type": "markdown",
   "metadata": {},
   "source": [
    "<h2> 2ème étape : création d'un module regroupant les fonctions de la régression linéaire </h2>"
   ]
  },
  {
   "cell_type": "markdown",
   "metadata": {
    "collapsed": true
   },
   "source": [
    "Nous allons maintenant **créer un nouveau dossier** que vous allez appeler **`regression`**. Dans ce dossier, nous allons définir un nouveau module en créant le fichier **̀`linear_regression.py`**\n",
    "\n",
    "**Important !** Pensez à créer le fichier (vide) **`__init__.py`**.\n",
    "\n",
    "Dans le fichier `linear_regression.py`, nous allons créer une classe **`Linear()`** et définir dans cette classe les différentes fonctions que nous avons utilisé dans le cours \"Regression_2_Moindre_Carre_Optimisation\"."
   ]
  },
  {
   "cell_type": "code",
   "execution_count": null,
   "metadata": {
    "collapsed": true
   },
   "outputs": [],
   "source": [
    "import numpy as np\n",
    "import matplotlib.pyplot as plt\n",
    "\n",
    "\n",
    "class Linear():\n",
    "    def __init__(self, x, y):\n",
    "        if (type(x) is not np.ndarray) and (type(y) is not np.ndarray):\n",
    "            raise ValueError(\"Inputs must be numpy arrays\")\n",
    "        self.x_local = x   # Variables locales à la classe.\n",
    "        self.y_local = y\n",
    "    \n",
    "    # Votre code ici.\n",
    "    # Inserez les fonctions qui vous semblent utiles pour obtenir les parametres ajustes.\n",
    "    # Par exemple : linear_hypothesis(self, x, theta=(0,1)):\n",
    "    "
   ]
  },
  {
   "cell_type": "markdown",
   "metadata": {},
   "source": [
    "Maintenant que l'on a regroupé les fonction, on veut les utiliser pour ajuster (*to fit* en anglais) les paramètres aux données. Toujours dans la classe, définissons maintenant la fonction suivante :"
   ]
  },
  {
   "cell_type": "code",
   "execution_count": null,
   "metadata": {
    "collapsed": true
   },
   "outputs": [],
   "source": [
    "    def fit(self, optimisation=None):\n",
    "        \"\"\" Fonction retournant les parametres estimes a l'aide de la methode des moindres carres.\n",
    "            \n",
    "            Args: \n",
    "                optimisation : doit etre scan_systematique ou descente_gradient\n",
    "        \"\"\"\n",
    "        if optimisation == \"scan_systematique\":\n",
    "            # Votre code ici.\n",
    "        elif optimisation == \"descente_gradient\":\n",
    "            # Votre code ici.\n",
    "        else:\n",
    "            raise ValueError(\"The parameter optimisation must be 'scan_systematique' or 'descente_gradient'\")"
   ]
  },
  {
   "cell_type": "markdown",
   "metadata": {},
   "source": [
    "Tant qu'à faire, on peut également en profiter pour créer 2 fonctions permettant pour l'une d'afficher les données, et pour l'autre d'afficher la droite f(x)=a\\*x+b à partir de `self.linear_hypothesis(self.x_local, parameters)`."
   ]
  },
  {
   "cell_type": "code",
   "execution_count": null,
   "metadata": {
    "collapsed": true
   },
   "outputs": [],
   "source": [
    "    def plot_data(self, show=False):\n",
    "        \"\"\" Graphe : points de donnees x en fonction de y. \n",
    "            \n",
    "        Args :\n",
    "            show : affichage optionnel\n",
    "        \"\"\"\n",
    "        return pass # Votre code ici\n",
    "    \n",
    "    def plot_fit(self, parameters, legende, color=\"b\", show=False):\n",
    "        \"\"\" Graphe : droite de la fonction lineaire f(x)=a*x+b .\n",
    "        \n",
    "        Args :\n",
    "            parameters : parametres de la droite (b=params[0] and a=params[1])\n",
    "            legende : donne une legende a la droite\n",
    "            color : change la couleur de la droite => 'b'         blue\n",
    "                                                      'g'         green\n",
    "                                                      'r'         red\n",
    "                                                      'c'         cyan\n",
    "                                                      'm'         magenta\n",
    "                                                      'y'         yellow\n",
    "                                                      'k'         black\n",
    "                                                      'w'         white\n",
    "            show : affichage optionnel\n",
    "        \"\"\"\n",
    "        return pass # Votre code ici\n"
   ]
  },
  {
   "cell_type": "markdown",
   "metadata": {},
   "source": [
    "<h2> 3ème étape : utiliser ces nouveaux modules </h2>\n",
    "\n",
    "Maintenant que nous avons défini nos nouveaux modules à l'aide de fonctions et de classes, nous devons les utiliser. Remontez dans le **dossier `POO/`** et ouvrez à nouveau le fichier **`run.py`**. \n",
    "\n",
    "On peut maintenant importer notre nouveau module **`regression`** et son sous-module **`linear_regression`** de telle manière : "
   ]
  },
  {
   "cell_type": "code",
   "execution_count": null,
   "metadata": {
    "collapsed": true
   },
   "outputs": [],
   "source": [
    "from regression import linear_regression"
   ]
  },
  {
   "cell_type": "markdown",
   "metadata": {},
   "source": [
    "Remarque : on pourrait également importer directement la classe `Linear` d'une de ces façons :\n",
    "\n",
    "`from regression import linear_regression.Linear as Linear` <br>\n",
    "ou <br>\n",
    "`from regression.linear_regression import Linear`\n",
    "\n",
    "Aide pour écrire le code dans `run.py` :\n",
    "\n",
    "1. Déclarez la classe `Linear` (comme vu dans Introduction_Python_2).\n",
    "1. Utilisez ses fonctions afin de déterminer les meilleurs paramètres ajustant les données avec l'option \"scan_systematique\" puis avec l'option \"descente_gradient\" de la fonction `fit`.\n",
    "1. Affichez sur un plot les points de données (fonction `plot_data()` de la classe `Linear`) ainsi que 2 droites avec comme coefficients les paramètres trouvés au point 2. (fonction `plot_fit()` de la classe `Linear`)\n"
   ]
  },
  {
   "cell_type": "code",
   "execution_count": null,
   "metadata": {
    "collapsed": true
   },
   "outputs": [],
   "source": [
    "from simu_data import generate_data\n",
    "from regression import linear_regression\n",
    "\n",
    "def main():\n",
    "    x,y = generate_data(1000, var=5)\n",
    "\n",
    "    # Votre code ici.\n",
    "    # Declaration de la classe Linear : l =??? \n",
    "    #...\n",
    "\n",
    "if __name__ == '__main__':\n",
    "    main()"
   ]
  }
 ],
 "metadata": {
  "kernelspec": {
   "display_name": "Python 2",
   "language": "python",
   "name": "python2"
  },
  "language_info": {
   "codemirror_mode": {
    "name": "ipython",
    "version": 2
   },
   "file_extension": ".py",
   "mimetype": "text/x-python",
   "name": "python",
   "nbconvert_exporter": "python",
   "pygments_lexer": "ipython2",
   "version": "2.7.10"
  }
 },
 "nbformat": 4,
 "nbformat_minor": 0
}
