{
 "cells": [
  {
   "cell_type": "markdown",
   "metadata": {},
   "source": [
    "A l'issue de la première partie du cours, vous devez être à l'aise avec les concepts et les notions suivantes :\n",
    "\n",
    "\n",
    "**Python**\n",
    "+ Tester des bouts de codes avec `ipython notebook`\n",
    "+ Être familier avec les messages d'erreurs basiques\n",
    "+ Ecrire et lancer un script `run.py` avec une fonction `main()`\n",
    "+ Définir des fonctions et les utiliser\n",
    "+ Importer des modules, y compris les vôtres\n",
    "+ Être familier avec les modules suivants : `matplotlib`, `random`, `numpy`, `scipy` (au moins `scipy.stats`)\n",
    "+ Créer et manipuler des `lists` \n",
    "+ Idem avec les `tuples`, et comprendre la différence avec les listes\n",
    "+ Travailler des `numpy.array` et être à l'aise avec l'indexation pour récupérer une ligne ou une colonne\n",
    "+ Savoir ce qu'est une classe, une instance de classe, le constructeur `__init__()`, le sens du mot-clé `self`\n",
    "+ Générer des jeux de données qui suivent certaines distributions statistiques\n",
    "+ Échantillonner sur ces données\n",
    "+ Calculer un produit scalaire\n",
    "\n",
    "**Analyse statistique**\n",
    "+ Analyser graphiquement un jeu de données avec `matplotlib` : `scatter`, `plot`, `hist`\n",
    "+ Calculer les statistiques des jeux de données : moyenne et médiane, variance et écart-type\n",
    "+ Comprendre le principe d'une distribution statistique\n",
    "+ Comprendre le théorème central limite et ses implications\n",
    "+ Connaître la différence entre la distribution normale et la distribution de Student\n",
    "+ Calculer les intervalles de confiance pour les deux distributions\n",
    "+ Comprendre les fonction `pdf`, `cdf` et `ppf` et à quoi elles servent\n",
    "+ Comprendre ce qu'est un test statistique et une p-value\n",
    "\n",
    "**Régression linéaire**\n",
    "+ Comprendre le principe d'ajuster des fonctions sur des jeux de données\n",
    "+ Comprendre le modèle linéaire, et les hypothèses sous-jacentes\n",
    "+ Calculer les coefficients pour une régression linéaire simple de 2 façons différentes\n",
    "+ Comprendre le principe de la régression par moindre carrés, et calculer les équations pour la régression linéaire simple\n",
    "+ Comprendre la principe de la descente de gradient et savoir l'implémenter pour la régression linéaire simple\n",
    "+ Calculer les coefficients pour une régression linéaire simple en utilisants `scipy` et `scikit-learn`\n",
    "+ Savoir diagnostiquer une régression linéaire, en calculant $R^2$ et en analysant la distribution des résidus\n",
    "\n",
    "\n",
    "**PCA**\n",
    "+ Savoir calculer une matrice de covariance\n",
    "+ Comprendre l'interprétation géométrique de cette matrice\n",
    "+ Calculer ses valeurs propres et vecteurs propres\n",
    "+ Comprendre le principe de la réduction de dimension"
   ]
  }
 ],
 "metadata": {
  "kernelspec": {
   "display_name": "Python 2",
   "language": "python",
   "name": "python2"
  },
  "language_info": {
   "codemirror_mode": {
    "name": "ipython",
    "version": 2
   },
   "file_extension": ".py",
   "mimetype": "text/x-python",
   "name": "python",
   "nbconvert_exporter": "python",
   "pygments_lexer": "ipython2",
   "version": "2.7.10"
  }
 },
 "nbformat": 4,
 "nbformat_minor": 0
}
