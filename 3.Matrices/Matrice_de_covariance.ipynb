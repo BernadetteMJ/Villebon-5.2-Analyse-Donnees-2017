{
 "cells": [
  {
   "cell_type": "markdown",
   "metadata": {},
   "source": [
    "Nous allons nous intéresser dans ce cours à la matrice de covariance.\n",
    "\n",
    "Avant d'aller plus loin, on génère notre nuage de points"
   ]
  },
  {
   "cell_type": "code",
   "execution_count": null,
   "metadata": {
    "collapsed": true
   },
   "outputs": [],
   "source": [
    "import numpy as np\n",
    "import matplotlib.pyplot as plt\n",
    "%matplotlib inline"
   ]
  },
  {
   "cell_type": "code",
   "execution_count": null,
   "metadata": {
    "collapsed": false
   },
   "outputs": [],
   "source": [
    "params  = (0,10)\n",
    "var = 5\n",
    "N = 100\n",
    "x = 10*np.random.random(N)\n",
    "y = params[0] + params[1]*x + var*np.random.normal(size=len(x))\n",
    "\n",
    "plt.scatter(x,y)\n",
    "plt.show()"
   ]
  },
  {
   "cell_type": "markdown",
   "metadata": {},
   "source": [
    "Si nous disposons d'un jeu de données écrit sous la forme suivante :\n",
    "\n",
    "$$X = \\left[ \\begin{array}{c} X_1 \\\\ X_2 \\\\ \\vdots \\end{array} \\right]$$\n",
    "\n",
    "La matrice de covariance est la matrice avec les entrées suivantes\n",
    "\n",
    "$$ \\sigma_{ij} = \\frac {1}{N-1} \\sum_{k=1}^N (X_{ki}-\\bar X_i) (X_{kj} - \\bar X_j)$$\n",
    "\n",
    "A quoi correspondent les entrées diagonales ?\n",
    "A quoi ressemble cette matrice dans notre cas ?"
   ]
  },
  {
   "cell_type": "code",
   "execution_count": null,
   "metadata": {
    "collapsed": false
   },
   "outputs": [],
   "source": [
    "def covariance(x,y):\n",
    "    pass\n",
    "\n",
    "def Matrice_covariance_2D(x,y):\n",
    "    pass\n",
    "\n",
    "M = Matrice_covariance_2D(x,y)\n",
    "np.testing.assert_almost_equal(M, np.cov(x,y))"
   ]
  },
  {
   "cell_type": "markdown",
   "metadata": {},
   "source": [
    "## Matrices et géométrie\n",
    "\n",
    "Une matrice est une application linéaire. La matrice de covariance est une matrice symétrique qui peut être interprétée comme un endormorphisme sur un espace vectoriel, correspondant aux vecteurs des données.\n",
    "\n",
    "Nous allons interpréter géométriquement cette matrice. Si vous n'avez pas d'intuition sur les matrices, vous pouvez allez sur le lien suivant : http://ncase.me/matrix/\n",
    "\n",
    "### Matrice de rotation\n",
    "Un exemple connu de matrice sont les matrices de rotation. Pour un vecteur à 2 dimension, elles s'écrivent sous la forme\n",
    "\n",
    "$$ R(\\theta) =  \\begin{pmatrix}  \\cos \\theta & - \\sin \\theta \\\\ \\sin \\theta & \\cos \\theta \\end{pmatrix} $$\n",
    "\n",
    "Ces matrices sont orthogonales $R^T = R^{-1}$, de sorte qu'elles conservent la norme des vecteurs, et leur déterminant vaut 1."
   ]
  },
  {
   "cell_type": "code",
   "execution_count": null,
   "metadata": {
    "collapsed": false
   },
   "outputs": [],
   "source": [
    "u = np.array([1,0])\n",
    "\n",
    "def rotation_matrix(theta):\n",
    "    pass\n",
    "\n",
    "def rotate(v, theta):\n",
    "    pass\n",
    "\n",
    "u_prime = rotate(u, 3.14159/2) #rotation de u de 90°\n",
    "\n",
    "assert np.linalg.norm(u) == np.linalg.norm(u_prime)\n",
    "assert np.linalg.det(rotation_matrix(3*14159/2)) == 1"
   ]
  },
  {
   "cell_type": "code",
   "execution_count": null,
   "metadata": {
    "collapsed": false
   },
   "outputs": [],
   "source": [
    "plt.scatter(u[0], u[1], color=\"blue\")\n",
    "plt.scatter(u_prime[0], u_prime[1], color=\"red\") \n",
    "plt.show()"
   ]
  },
  {
   "cell_type": "markdown",
   "metadata": {},
   "source": [
    "### Géométrie de la matrice de covariance\n",
    "\n",
    "Afin de mieux comprendre cette matrice, nous allons d'abord générer un nuage de points totalement aléatoire."
   ]
  },
  {
   "cell_type": "code",
   "execution_count": null,
   "metadata": {
    "collapsed": false
   },
   "outputs": [],
   "source": [
    "u = 10*np.random.random(N)\n",
    "v = 10*np.random.random(N)\n",
    "\n",
    "plt.scatter(u,v)\n",
    "plt.show()"
   ]
  },
  {
   "cell_type": "code",
   "execution_count": null,
   "metadata": {
    "collapsed": false
   },
   "outputs": [],
   "source": [
    "UV = np.dot(M, np.vstack((u,v)))\n",
    "plt.scatter(UV[0], UV[1])\n",
    "plt.show()"
   ]
  },
  {
   "cell_type": "markdown",
   "metadata": {},
   "source": [
    "La matrice de correlation calculée depuis nos x et y initiaux à transformer u, v en les alignant sur un axe particulier, qui semble correspondre à la relation entre x et y."
   ]
  },
  {
   "cell_type": "markdown",
   "metadata": {},
   "source": [
    "## Valeurs propres et vecteurs propres\n",
    "\n",
    "La matrice semble avoir une direction privilégiée. Que peut-on apprendre à partir des valeurs et vecteurs propres ?"
   ]
  },
  {
   "cell_type": "code",
   "execution_count": null,
   "metadata": {
    "collapsed": true
   },
   "outputs": [],
   "source": [
    "eig_val, eig_vec = np.linalg.eig(M)"
   ]
  },
  {
   "cell_type": "code",
   "execution_count": null,
   "metadata": {
    "collapsed": false
   },
   "outputs": [],
   "source": [
    "for i in range(2):\n",
    "    print 'à la valeur propre', eig_val[i], 'correspond le vecteur', eig_vec[:,i]"
   ]
  },
  {
   "cell_type": "markdown",
   "metadata": {},
   "source": [
    "Nous allons nous intéresser au vecteur dont la valeur propre est la plus élevée"
   ]
  },
  {
   "cell_type": "code",
   "execution_count": null,
   "metadata": {
    "collapsed": true
   },
   "outputs": [],
   "source": [
    "principal_v = eig_vec[:,1]"
   ]
  },
  {
   "cell_type": "code",
   "execution_count": 13,
   "metadata": {
    "collapsed": false
   },
   "outputs": [],
   "source": [
    "# Calcul du coefficient de la droite\n",
    "pass"
   ]
  },
  {
   "cell_type": "markdown",
   "metadata": {},
   "source": [
    "Nous avons retrouver, simplement par l'analyse de la matrice de covariance, le coefficient de la droite qui explique le nuage de points initial x et y"
   ]
  }
 ],
 "metadata": {
  "kernelspec": {
   "display_name": "Python 2",
   "language": "python",
   "name": "python2"
  },
  "language_info": {
   "codemirror_mode": {
    "name": "ipython",
    "version": 2
   },
   "file_extension": ".py",
   "mimetype": "text/x-python",
   "name": "python",
   "nbconvert_exporter": "python",
   "pygments_lexer": "ipython2",
   "version": "2.7.10"
  }
 },
 "nbformat": 4,
 "nbformat_minor": 0
}
